{
 "cells": [
  {
   "attachments": {},
   "cell_type": "markdown",
   "metadata": {},
   "source": [
    "1. In the below elements which of them are values or an expression? eg:- values can be\n",
    "integer or string and expressions will be mathematical operators.\n",
    "*\n",
    "'hello'\n",
    "-87.8\n",
    "-\n",
    "/\n",
    "+\n",
    "6\n",
    "\n",
    "\n",
    "Ans: Values :- 'hello', -87.8, 6 \n",
    "     Operators :- *, -, /, +"
   ]
  },
  {
   "attachments": {},
   "cell_type": "markdown",
   "metadata": {},
   "source": [
    "2. What is the difference between string and variable?\n",
    "\n",
    "Ans: String is a datatype which is usually written in single or double quotation and Variable is like a storage where we can can store a data.\n",
    "     Example :- 'Hello' is a string and  we can assign this string to a variable like : greet = 'Hello'. Here greet is variable and 'Hello is string."
   ]
  },
  {
   "attachments": {},
   "cell_type": "markdown",
   "metadata": {},
   "source": [
    "3. Describe three different data types.\n",
    "\n",
    "Ans: String: Characters, digits, or symbols—always written in single or double quotation treated as String. Ex - 'Hello', '+91 65987569'\n",
    "     Integer: POsitive or negative numeric value which is not a fraction.  ex : 1, 125\n",
    "     Boolean: This data type includes two values, True(When Condition Satisfied) and False(When Condition is not satisfied)."
   ]
  },
  {
   "attachments": {},
   "cell_type": "markdown",
   "metadata": {},
   "source": [
    "4. What is an expression made up of? What do all expressions do?\n",
    "\n",
    "Ans: A collection of constants and variables connected one or more of the operations of addition, subtraction, multiplication and division. Ex: x = x + 25\n",
    "     All expression produces some value or result after doing some operations."
   ]
  },
  {
   "attachments": {},
   "cell_type": "markdown",
   "metadata": {},
   "source": [
    "5. This assignment statements, like spam = 10. What is the difference between an\n",
    "expression and a statement?\n",
    "\n",
    "Ans: A statement in Python is used for creating variables or for displaying values which is not evaluated for some values. \n",
    "     The expression in Python produces some value or result which is evaluated for some values.\n",
    "     Eg -> x=3 is a statement but x = 7=3*20 is an expression."
   ]
  },
  {
   "attachments": {},
   "cell_type": "markdown",
   "metadata": {},
   "source": [
    "6. After running the following code, what does the variable bacon contain?\n",
    "bacon = 22\n",
    "bacon + 1\n",
    " Ans: bacon = 22 because 1 is added with bacon but not assigned to bacon variable ."
   ]
  },
  {
   "attachments": {},
   "cell_type": "markdown",
   "metadata": {},
   "source": [
    "7. What should the values of the following two terms be?\n",
    "'spam' + 'spamspam'\n",
    "'spam' * 3\n",
    "Ans : Both contains same value: 'spamspamspam'"
   ]
  },
  {
   "attachments": {},
   "cell_type": "markdown",
   "metadata": {},
   "source": [
    "8. Why is eggs a valid variable name while 100 is invalid?\n",
    "\n",
    "Ans: Because variable name cannot start  with a number."
   ]
  },
  {
   "attachments": {},
   "cell_type": "markdown",
   "metadata": {},
   "source": [
    "9. What three functions can be used to get the integer, floating-point number, or string\n",
    "version of a value?\n",
    "\n",
    "Ans: To get integer we use int() func\n",
    "     To get floating-point number we use float() func\n",
    "     To get string we use str() func"
   ]
  },
  {
   "attachments": {},
   "cell_type": "markdown",
   "metadata": {},
   "source": [
    "10. Why does this expression cause an error? How can you fix it?\n",
    "'I have eaten ' + 99 + ' burritos.'\n",
    "\n",
    "Ans :- Output: I have eaten 99 burritos."
   ]
  }
 ],
 "metadata": {
  "kernelspec": {
   "display_name": "Python 3",
   "language": "python",
   "name": "python3"
  },
  "language_info": {
   "codemirror_mode": {
    "name": "ipython",
    "version": 3
   },
   "file_extension": ".py",
   "mimetype": "text/x-python",
   "name": "python",
   "nbconvert_exporter": "python",
   "pygments_lexer": "ipython3",
   "version": "3.10.5"
  },
  "orig_nbformat": 4
 },
 "nbformat": 4,
 "nbformat_minor": 2
}
